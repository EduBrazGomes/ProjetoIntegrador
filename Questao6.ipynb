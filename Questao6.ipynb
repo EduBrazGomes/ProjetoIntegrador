{
  "nbformat": 4,
  "nbformat_minor": 0,
  "metadata": {
    "colab": {
      "provenance": [],
      "authorship_tag": "ABX9TyPBLVu7jlBMNNxn/fGdIpNg",
      "include_colab_link": true
    },
    "kernelspec": {
      "name": "python3",
      "display_name": "Python 3"
    },
    "language_info": {
      "name": "python"
    }
  },
  "cells": [
    {
      "cell_type": "markdown",
      "metadata": {
        "id": "view-in-github",
        "colab_type": "text"
      },
      "source": [
        "<a href=\"https://colab.research.google.com/github/EduBrazGomes/ProjetoIntegrador/blob/main/Questao6.ipynb\" target=\"_parent\"><img src=\"https://colab.research.google.com/assets/colab-badge.svg\" alt=\"Open In Colab\"/></a>"
      ]
    },
    {
      "cell_type": "code",
      "execution_count": 9,
      "metadata": {
        "id": "yWE4S-zW7hyb"
      },
      "outputs": [],
      "source": [
        "import pandas as pd\n",
        "import numpy as np\n",
        "from sklearn.model_selection import train_test_split\n",
        "from sklearn.preprocessing import OneHotEncoder, StandardScaler\n",
        "from sklearn.compose import ColumnTransformer\n",
        "from sklearn.pipeline import Pipeline\n",
        "from sklearn.linear_model import LinearRegression\n",
        "from sklearn.metrics import mean_squared_error, r2_score\n",
        "from sklearn.neural_network import MLPRegressor\n",
        "import xgboost as xgb"
      ]
    },
    {
      "cell_type": "code",
      "source": [
        "df = pd.read_csv(\"precos_imoveis_com_m2.csv\")\n",
        "print(df.head(10))"
      ],
      "metadata": {
        "colab": {
          "base_uri": "https://localhost:8080/"
        },
        "id": "luOoS71RDXOz",
        "outputId": "7aeb344a-24fe-46cc-8f2c-8a3e292f3f05"
      },
      "execution_count": 10,
      "outputs": [
        {
          "output_type": "stream",
          "name": "stdout",
          "text": [
            "  Localizacao  Quartos  Banheiros  Garagem  AnoConstrucao  Tamanho_m2  \\\n",
            "0  Zona Leste        4          4        1           2018         306   \n",
            "1  Zona Oeste        1          4        1           1985         217   \n",
            "2  Zona Norte        5          4        2           1996         292   \n",
            "3  Zona Oeste        3          4        2           2004          95   \n",
            "4  Zona Oeste        3          4        1           2007         122   \n",
            "5    Zona Sul        1          1        1           1981         138   \n",
            "6  Zona Norte        4          4        1           2014         188   \n",
            "7  Zona Norte        4          1        2           2016         368   \n",
            "8  Zona Norte        5          4        2           1984         195   \n",
            "9  Zona Oeste        1          3        0           1980         229   \n",
            "\n",
            "           Preco  \n",
            "0  601125.067080  \n",
            "1  352574.824604  \n",
            "2  666303.643250  \n",
            "3  396939.153972  \n",
            "4  410361.614971  \n",
            "5  297402.207803  \n",
            "6  463612.099739  \n",
            "7  603743.452177  \n",
            "8  500853.033535  \n",
            "9  322906.451420  \n"
          ]
        }
      ]
    },
    {
      "cell_type": "code",
      "source": [
        "\n",
        "df['idade'] = 2025 - df['AnoConstrucao']\n",
        "df = df.drop('AnoConstrucao', axis=1)\n"
      ],
      "metadata": {
        "id": "pyfIvUjFDexX"
      },
      "execution_count": 11,
      "outputs": []
    },
    {
      "cell_type": "code",
      "source": [
        "x = df.drop('Preco', axis=1)\n",
        "\n",
        "y = df['Preco']\n",
        "\n",
        "categorical_features = [\"Localizacao\"]\n",
        "numerical_features = [\"Quartos\",\"Banheiros\",\"Garagem\",\"idade\",\"Tamanho_m2\"]\n",
        "\n",
        "preprocessor = ColumnTransformer(\n",
        "    transformers=[\n",
        "        ('num', StandardScaler(), numerical_features),\n",
        "        ('cat', OneHotEncoder(), categorical_features)\n",
        "    ])\n",
        "\n",
        "x_train, x_test, y_train, y_test = train_test_split(x, y, test_size=0.3, random_state=42)"
      ],
      "metadata": {
        "id": "1XZkPvVSGSxT"
      },
      "execution_count": 12,
      "outputs": []
    },
    {
      "cell_type": "code",
      "source": [
        "pipe_lr = Pipeline([('preprocessor', preprocessor), ('regressor', LinearRegression())])\n",
        "pipe_lr.fit(x_train, y_train)\n",
        "y_pred_lr = pipe_lr.predict(x_test)"
      ],
      "metadata": {
        "id": "QJmFTTo_-Q8B"
      },
      "execution_count": 13,
      "outputs": []
    },
    {
      "cell_type": "code",
      "source": [
        "pipe_xgb = Pipeline(steps=[(\"preprocessor\",preprocessor), (\"regressor\", xgb.XGBRegressor(objective=\"reg:squarederror\",random_state=42))])\n",
        "pipe_xgb.fit(x_train, y_train)\n",
        "y_pred_xgb = pipe_xgb.predict(x_test)"
      ],
      "metadata": {
        "id": "sNKXAeSB-zta"
      },
      "execution_count": 14,
      "outputs": []
    },
    {
      "cell_type": "code",
      "source": [
        "pipe_mlp = Pipeline(steps=[(\"preprocessor\",preprocessor), (\"regressor\", MLPRegressor(random_state=42, max_iter=1000))])\n",
        "pipe_mlp.fit(x_train, y_train)\n",
        "y_pred_mlp = pipe_mlp.predict(x_test)"
      ],
      "metadata": {
        "colab": {
          "base_uri": "https://localhost:8080/"
        },
        "id": "RSht0399AQd2",
        "outputId": "bce06af8-c0cd-40f0-98d0-7f09500ab402"
      },
      "execution_count": 15,
      "outputs": [
        {
          "output_type": "stream",
          "name": "stderr",
          "text": [
            "/usr/local/lib/python3.12/dist-packages/sklearn/neural_network/_multilayer_perceptron.py:691: ConvergenceWarning: Stochastic Optimizer: Maximum iterations (1000) reached and the optimization hasn't converged yet.\n",
            "  warnings.warn(\n"
          ]
        }
      ]
    },
    {
      "cell_type": "code",
      "source": [
        "def avaliar_modelo(y_true,y_pred, nome_modelo):\n",
        "  mse = mean_squared_error(y_true, y_pred)\n",
        "  rmse = np.sqrt(mse)\n",
        "  r2 = r2_score(y_true, y_pred)\n",
        "  print(f\"Avaliação do modelo {nome_modelo}:\")\n",
        "  print(f\"{nome_modelo} - RMSE: {rmse:.2}, R2: {r2:.3f}\")\n",
        "\n",
        "avaliar_modelo(y_test, y_pred_lr, \"Regressão Linear\")\n",
        "avaliar_modelo(y_test, y_pred_xgb, \"XGBoost\")\n",
        "avaliar_modelo(y_test, y_pred_mlp, \"Rede neural (MLP)\")\n"
      ],
      "metadata": {
        "colab": {
          "base_uri": "https://localhost:8080/"
        },
        "id": "YnY39yOI48g2",
        "outputId": "8cd6618e-3ffb-454e-e0ae-a2a9ea57da3e"
      },
      "execution_count": 16,
      "outputs": [
        {
          "output_type": "stream",
          "name": "stdout",
          "text": [
            "Avaliação do modelo Regressão Linear:\n",
            "Regressão Linear - RMSE: 4.6e+04, R2: 0.878\n",
            "Avaliação do modelo XGBoost:\n",
            "XGBoost - RMSE: 5.6e+04, R2: 0.825\n",
            "Avaliação do modelo Rede neural (MLP):\n",
            "Rede neural (MLP) - RMSE: 4.6e+05, R2: -10.677\n"
          ]
        }
      ]
    },
    {
      "cell_type": "code",
      "source": [],
      "metadata": {
        "id": "vuFXexcy6P9f"
      },
      "execution_count": 16,
      "outputs": []
    }
  ]
}