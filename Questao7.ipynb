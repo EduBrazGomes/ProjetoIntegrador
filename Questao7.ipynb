{
  "nbformat": 4,
  "nbformat_minor": 0,
  "metadata": {
    "colab": {
      "provenance": [],
      "authorship_tag": "ABX9TyNb+1AgOTSKtsdoQvzt+oMQ",
      "include_colab_link": true
    },
    "kernelspec": {
      "name": "python3",
      "display_name": "Python 3"
    },
    "language_info": {
      "name": "python"
    }
  },
  "cells": [
    {
      "cell_type": "markdown",
      "metadata": {
        "id": "view-in-github",
        "colab_type": "text"
      },
      "source": [
        "<a href=\"https://colab.research.google.com/github/EduBrazGomes/ProjetoIntegrador/blob/main/Questao7.ipynb\" target=\"_parent\"><img src=\"https://colab.research.google.com/assets/colab-badge.svg\" alt=\"Open In Colab\"/></a>"
      ]
    },
    {
      "cell_type": "code",
      "source": [
        "import pandas as pd\n",
        "from mlxtend.preprocessing import TransactionEncoder\n",
        "from mlxtend.frequent_patterns import apriori, association_rules"
      ],
      "metadata": {
        "id": "G32NS2bAl-Qu"
      },
      "execution_count": 58,
      "outputs": []
    },
    {
      "cell_type": "code",
      "source": [
        "url = \"https://raw.githubusercontent.com/EduBrazGomes/ProjetoIntegrador/refs/heads/main/dataset_supermercado_simulado.csv\"\n",
        "df = pd.read_csv(url)\n",
        "print(df.head(10))"
      ],
      "metadata": {
        "colab": {
          "base_uri": "https://localhost:8080/"
        },
        "id": "hYO1LaGlsqGM",
        "outputId": "376358b9-c759-4c89-b151-ffb7e53cf30f"
      },
      "execution_count": 59,
      "outputs": [
        {
          "output_type": "stream",
          "name": "stdout",
          "text": [
            "                                         items\n",
            "0            ovo,tomate,feijão,maçã,carne,suco\n",
            "1  feijão,suco,leite,arroz,cereal,refrigerante\n",
            "2                                  peixe,carne\n",
            "3                 refrigerante,leite,pão,arroz\n",
            "4                         iogurte,feijão,peixe\n",
            "5         frango,iogurte,macarrão,manteiga,pão\n",
            "6                    pão,frango,iogurte,tomate\n",
            "7                              pão,tomate,maçã\n",
            "8                       frango,ovo,peixe,carne\n",
            "9                                feijão,frango\n"
          ]
        }
      ]
    },
    {
      "cell_type": "code",
      "source": [
        "df['items'] = df['items'].apply(lambda x: [item.strip() for item in x.split(',')])\n"
      ],
      "metadata": {
        "id": "daIL9rNNzMx_"
      },
      "execution_count": 60,
      "outputs": []
    },
    {
      "cell_type": "code",
      "source": [
        "te = TransactionEncoder()\n",
        "te_data = te.fit(df['items']).transform(df['items'])\n",
        "df_apriori = pd.DataFrame(te_data, columns=te.columns_)"
      ],
      "metadata": {
        "id": "Z2b4kdnCzd4b"
      },
      "execution_count": 61,
      "outputs": []
    },
    {
      "cell_type": "code",
      "source": [
        "frequent_itemsets = apriori(df_apriori, min_support=0.01, use_colnames=True)\n",
        "frequent_itemsets = frequent_itemsets.sort_values(by=\"support\", ascending=False)"
      ],
      "metadata": {
        "id": "TJNM4MJvz5fH"
      },
      "execution_count": 62,
      "outputs": []
    },
    {
      "cell_type": "code",
      "source": [
        "regras = association_rules(frequent_itemsets, metric=\"lift\", min_threshold=0.2)\n",
        "regras = regras.sort_values(by=\"lift\", ascending=False)"
      ],
      "metadata": {
        "id": "DS7148Iqz84Z"
      },
      "execution_count": 63,
      "outputs": []
    },
    {
      "cell_type": "code",
      "source": [
        "print(\"\\n=== Regras de Associação ===\")\n",
        "print(regras.head(20))\n"
      ],
      "metadata": {
        "colab": {
          "base_uri": "https://localhost:8080/"
        },
        "id": "J7PrqyYV0AFs",
        "outputId": "12fbb897-ed7b-4109-adcf-f9a039a47ab0"
      },
      "execution_count": 64,
      "outputs": [
        {
          "output_type": "stream",
          "name": "stdout",
          "text": [
            "\n",
            "=== Regras de Associação ===\n",
            "             antecedents          consequents  antecedent support  \\\n",
            "384            (iogurte)      (manteiga, pão)              0.1984   \n",
            "381      (manteiga, pão)            (iogurte)              0.0374   \n",
            "385           (manteiga)       (iogurte, pão)              0.1960   \n",
            "380       (iogurte, pão)           (manteiga)              0.0390   \n",
            "382  (iogurte, manteiga)                (pão)              0.0398   \n",
            "383                (pão)  (iogurte, manteiga)              0.1940   \n",
            "1             (macarrão)                (ovo)              0.2048   \n",
            "0                  (ovo)           (macarrão)              0.2054   \n",
            "8                  (ovo)             (banana)              0.2054   \n",
            "9               (banana)                (ovo)              0.1930   \n",
            "11            (manteiga)             (feijão)              0.1960   \n",
            "10              (feijão)           (manteiga)              0.2078   \n",
            "44               (arroz)               (maçã)              0.1914   \n",
            "45                (maçã)              (arroz)              0.2000   \n",
            "5               (tomate)                (ovo)              0.2026   \n",
            "4                  (ovo)             (tomate)              0.2054   \n",
            "38             (iogurte)           (manteiga)              0.1984   \n",
            "39            (manteiga)            (iogurte)              0.1960   \n",
            "21               (leite)                (ovo)              0.1952   \n",
            "20                 (ovo)              (leite)              0.2054   \n",
            "\n",
            "     consequent support  support  confidence      lift  representativity  \\\n",
            "384              0.0374   0.0102    0.051411  1.374633               1.0   \n",
            "381              0.1984   0.0102    0.272727  1.374633               1.0   \n",
            "385              0.0390   0.0102    0.052041  1.334380               1.0   \n",
            "380              0.1960   0.0102    0.261538  1.334380               1.0   \n",
            "382              0.1940   0.0102    0.256281  1.321038               1.0   \n",
            "383              0.0398   0.0102    0.052577  1.321038               1.0   \n",
            "1                0.2054   0.0448    0.218750  1.064995               1.0   \n",
            "0                0.2048   0.0448    0.218111  1.064995               1.0   \n",
            "8                0.1930   0.0422    0.205453  1.064522               1.0   \n",
            "9                0.2054   0.0422    0.218653  1.064522               1.0   \n",
            "11               0.2078   0.0422    0.215306  1.036122               1.0   \n",
            "10               0.1960   0.0422    0.203080  1.036122               1.0   \n",
            "44               0.2000   0.0394    0.205852  1.029258               1.0   \n",
            "45               0.1914   0.0394    0.197000  1.029258               1.0   \n",
            "5                0.2054   0.0426    0.210267  1.023693               1.0   \n",
            "4                0.2026   0.0426    0.207400  1.023693               1.0   \n",
            "38               0.1960   0.0398    0.200605  1.023494               1.0   \n",
            "39               0.1984   0.0398    0.203061  1.023494               1.0   \n",
            "21               0.2054   0.0410    0.210041  1.022595               1.0   \n",
            "20               0.1952   0.0410    0.199611  1.022595               1.0   \n",
            "\n",
            "     leverage  conviction  zhangs_metric   jaccard  certainty  kulczynski  \n",
            "384  0.002780    1.014771       0.339987  0.045213   0.014556    0.162069  \n",
            "381  0.002780    1.102200       0.283122  0.045213   0.092724    0.162069  \n",
            "385  0.002556    1.013757       0.311677  0.045374   0.013570    0.156790  \n",
            "380  0.002556    1.088750       0.260758  0.045374   0.081515    0.156790  \n",
            "382  0.002479    1.083743       0.253093  0.045617   0.077272    0.154429  \n",
            "383  0.002479    1.013486       0.301513  0.045617   0.013307    0.154429  \n",
            "1    0.002734    1.017088       0.076746  0.122605   0.016801    0.218431  \n",
            "0    0.002734    1.017024       0.076804  0.122605   0.016739    0.218431  \n",
            "8    0.002558    1.015673       0.076279  0.118473   0.015431    0.212053  \n",
            "9    0.002558    1.016962       0.075107  0.118473   0.016679    0.212053  \n",
            "11   0.001471    1.009566       0.043361  0.116704   0.009475    0.209193  \n",
            "10   0.001471    1.008884       0.044007  0.116704   0.008806    0.209193  \n",
            "44   0.001120    1.007368       0.035155  0.111932   0.007315    0.201426  \n",
            "45   0.001120    1.006974       0.035533  0.111932   0.006926    0.201426  \n",
            "5    0.000986    1.006162       0.029025  0.116585   0.006125    0.208833  \n",
            "4    0.000986    1.006056       0.029127  0.116585   0.006020    0.208833  \n",
            "38   0.000914    1.005760       0.028636  0.112239   0.005727    0.201833  \n",
            "39   0.000914    1.005849       0.028551  0.112239   0.005815    0.201833  \n",
            "21   0.000906    1.005875       0.027455  0.114016   0.005841    0.204826  \n",
            "20   0.000906    1.005510       0.027807  0.114016   0.005480    0.204826  \n"
          ]
        }
      ]
    },
    {
      "cell_type": "code",
      "source": [],
      "metadata": {
        "id": "fLlg9zRX0IpB"
      },
      "execution_count": 64,
      "outputs": []
    }
  ]
}